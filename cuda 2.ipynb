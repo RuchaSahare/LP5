{
  "nbformat": 4,
  "nbformat_minor": 0,
  "metadata": {
    "colab": {
      "provenance": [],
      "gpuType": "T4"
    },
    "kernelspec": {
      "name": "python3",
      "display_name": "Python 3"
    },
    "language_info": {
      "name": "python"
    },
    "accelerator": "GPU"
  },
  "cells": [
    {
      "cell_type": "code",
      "execution_count": 1,
      "metadata": {
        "colab": {
          "base_uri": "https://localhost:8080/"
        },
        "id": "ZlnBJZGJMp6Q",
        "outputId": "52d5d366-b33f-4db6-84af-8cd8b8eabfda"
      },
      "outputs": [
        {
          "output_type": "stream",
          "name": "stdout",
          "text": [
            "nvcc: NVIDIA (R) Cuda compiler driver\n",
            "Copyright (c) 2005-2024 NVIDIA Corporation\n",
            "Built on Thu_Jun__6_02:18:23_PDT_2024\n",
            "Cuda compilation tools, release 12.5, V12.5.82\n",
            "Build cuda_12.5.r12.5/compiler.34385749_0\n"
          ]
        }
      ],
      "source": [
        "!nvcc --version"
      ]
    },
    {
      "cell_type": "code",
      "source": [
        "!nvidia-smi"
      ],
      "metadata": {
        "colab": {
          "base_uri": "https://localhost:8080/"
        },
        "id": "frTN_GofNOjS",
        "outputId": "13f430ec-da35-4b27-9da3-0c3bf928e381"
      },
      "execution_count": 2,
      "outputs": [
        {
          "output_type": "stream",
          "name": "stdout",
          "text": [
            "Tue May  6 13:43:53 2025       \n",
            "+-----------------------------------------------------------------------------------------+\n",
            "| NVIDIA-SMI 550.54.15              Driver Version: 550.54.15      CUDA Version: 12.4     |\n",
            "|-----------------------------------------+------------------------+----------------------+\n",
            "| GPU  Name                 Persistence-M | Bus-Id          Disp.A | Volatile Uncorr. ECC |\n",
            "| Fan  Temp   Perf          Pwr:Usage/Cap |           Memory-Usage | GPU-Util  Compute M. |\n",
            "|                                         |                        |               MIG M. |\n",
            "|=========================================+========================+======================|\n",
            "|   0  Tesla T4                       Off |   00000000:00:04.0 Off |                    0 |\n",
            "| N/A   40C    P8              9W /   70W |       0MiB /  15360MiB |      0%      Default |\n",
            "|                                         |                        |                  N/A |\n",
            "+-----------------------------------------+------------------------+----------------------+\n",
            "                                                                                         \n",
            "+-----------------------------------------------------------------------------------------+\n",
            "| Processes:                                                                              |\n",
            "|  GPU   GI   CI        PID   Type   Process name                              GPU Memory |\n",
            "|        ID   ID                                                               Usage      |\n",
            "|=========================================================================================|\n",
            "|  No running processes found                                                             |\n",
            "+-----------------------------------------------------------------------------------------+\n"
          ]
        }
      ]
    },
    {
      "cell_type": "code",
      "source": [
        "%%writefile vector.cu\n",
        "\n",
        "#include <bits/stdc++.h>\n",
        "#include <cuda_runtime.h>\n",
        "using namespace std;\n",
        "using namespace std::chrono;\n",
        "\n",
        "__global__ void add(int* A, int* B, int* C, int size){\n",
        "  int tid = blockIdx.x * blockDim.x + threadIdx.x;\n",
        "\n",
        "  if(tid < size){\n",
        "    C[tid] = A[tid] + B[tid];\n",
        "  }\n",
        "}\n",
        "\n",
        "void initialize(int* vector, int size){\n",
        "  for(int i=0; i<size; i++){\n",
        "    cout << \"Enter element \" << i+1 << \" of the vector: \";\n",
        "    cin >> vector[i];\n",
        "  }\n",
        "  cout << endl;\n",
        "}\n",
        "\n",
        "void print(int* vector, int size){\n",
        "  for(int i=0; i<size; i++){\n",
        "    cout << vector[i] << \" \";\n",
        "  }\n",
        "  cout << endl;\n",
        "}\n",
        "\n",
        "void sequentialAddition(int* A, int* B, int* C, int size){\n",
        "  for(int i=0; i<size; i++){\n",
        "    C[i] = A[i] + B[i];\n",
        "  }\n",
        "}\n",
        "\n",
        "int main(){\n",
        "  int N;\n",
        "  cout << \"Enter the size of vectors: \";\n",
        "  cin >> N;\n",
        "\n",
        "  int *A, *B, *C;\n",
        "\n",
        "  int vectorSize = N;\n",
        "  size_t vectorBytes = vectorSize * sizeof(int);\n",
        "\n",
        "  A = new int[vectorSize];\n",
        "  B = new int[vectorSize];\n",
        "  C = new int[vectorSize];\n",
        "\n",
        "  initialize(A, vectorSize);\n",
        "  initialize(B, vectorSize);\n",
        "\n",
        "  cout << \"Vector A: \"; print(A, vectorSize);\n",
        "  cout << \"Vector B: \"; print(B, vectorSize);\n",
        "\n",
        "  int *X, *Y, *Z;\n",
        "  cudaMalloc(&X, vectorBytes);\n",
        "  cudaMalloc(&Y, vectorBytes);\n",
        "  cudaMalloc(&Z, vectorBytes);\n",
        "\n",
        "  cudaMemcpy(X, A, vectorBytes, cudaMemcpyHostToDevice);\n",
        "  cudaMemcpy(Y, B, vectorBytes, cudaMemcpyHostToDevice);\n",
        "\n",
        "  int threadsPerBlock = 256;\n",
        "  int blocksPerGrid = (N + threadsPerBlock - 1) / threadsPerBlock;\n",
        "\n",
        "  // Sequential Addition\n",
        "\n",
        "  auto start = high_resolution_clock::now();\n",
        "  sequentialAddition(A, B, C, N);\n",
        "  auto stop = high_resolution_clock::now();\n",
        "  auto seq_duration = duration_cast<microseconds>(stop-start);\n",
        "\n",
        "  cout << \"Sequential Addition: \"; print(C, N);\n",
        "\n",
        "  // Parallel Addition\n",
        "\n",
        "  start = high_resolution_clock::now();\n",
        "  add<<<blocksPerGrid, threadsPerBlock>>>(X,Y,Z,N);\n",
        "  cudaDeviceSynchronize();\n",
        "  cudaMemcpy(C, Z, vectorBytes, cudaMemcpyDeviceToHost);\n",
        "  stop = high_resolution_clock::now();\n",
        "  auto par_duration = duration_cast<microseconds>(stop-start);\n",
        "\n",
        "  cout << \"Parallel Addition: \"; print(C, N);\n",
        "\n",
        "  cout << \"Sequential Addition Time: \"<< seq_duration.count() <<\" microseconds.\"<<endl;\n",
        "  cout << \"Parallel Addition Time: \"<< par_duration.count() <<\" microseconds.\"<<endl;\n",
        "\n",
        "  delete []A;\n",
        "  delete []B;\n",
        "  delete []C;\n",
        "\n",
        "  cudaFree(X);\n",
        "  cudaFree(Y);\n",
        "  cudaFree(Z);\n",
        "\n",
        "  return 0;\n",
        "}"
      ],
      "metadata": {
        "colab": {
          "base_uri": "https://localhost:8080/"
        },
        "id": "K0uxrtPSNOlt",
        "outputId": "fde1fe78-19d1-4f6c-8d31-185a27c2a009"
      },
      "execution_count": 3,
      "outputs": [
        {
          "output_type": "stream",
          "name": "stdout",
          "text": [
            "Writing vector.cu\n"
          ]
        }
      ]
    },
    {
      "cell_type": "code",
      "source": [
        "!nvcc -arch=sm_75 vector.cu -o vec"
      ],
      "metadata": {
        "id": "o38FwnrdNOoW"
      },
      "execution_count": 4,
      "outputs": []
    },
    {
      "cell_type": "code",
      "source": [
        "!./vec"
      ],
      "metadata": {
        "colab": {
          "base_uri": "https://localhost:8080/"
        },
        "id": "5ZjF1Q1sNOq9",
        "outputId": "983703e4-5b3e-4dde-91d9-36a21a121f24"
      },
      "execution_count": 5,
      "outputs": [
        {
          "output_type": "stream",
          "name": "stdout",
          "text": [
            "Enter the size of vectors: 3\n",
            "Enter element 1 of the vector: 1\n",
            "Enter element 2 of the vector: 2\n",
            "Enter element 3 of the vector: 3\n",
            "\n",
            "Enter element 1 of the vector: 4\n",
            "Enter element 2 of the vector: 5\n",
            "Enter element 3 of the vector: 6\n",
            "\n",
            "Vector A: 1 2 3 \n",
            "Vector B: 4 5 6 \n",
            "Sequential Addition: 5 7 9 \n",
            "Parallel Addition: 5 7 9 \n",
            "Sequential Addition Time: 0 microseconds.\n",
            "Parallel Addition Time: 165 microseconds.\n"
          ]
        }
      ]
    },
    {
      "cell_type": "code",
      "source": [
        "%%writefile matrix.cu\n",
        "\n",
        "#include <bits/stdc++.h>\n",
        "#include <cuda_runtime.h>\n",
        "\n",
        "using namespace std;\n",
        "using namespace std::chrono;\n",
        "\n",
        "__global__ void multiply(int *A, int *B, int *C, int M, int N, int K){\n",
        "  int row = blockIdx.y * blockDim.y + threadIdx.y;\n",
        "  int col = blockIdx.x * blockDim.x + threadIdx.x;\n",
        "\n",
        "  if(row<M && col<K){\n",
        "    int sum = 0;\n",
        "    for(int i=0; i<N; i++){\n",
        "      sum += A[row * N + i] * B[K * i + col];\n",
        "    }\n",
        "    C[row * K + col] = sum;\n",
        "  }\n",
        "}\n",
        "\n",
        "void initialize(int *matrix, int rows, int cols){\n",
        "  for(int i=0; i< rows*cols; i++){\n",
        "    cout << \"Enter element \" << i+1 << \" : \";\n",
        "    cin >> matrix[i];\n",
        "  }\n",
        "}\n",
        "\n",
        "void print(int *matrix, int rows, int cols){\n",
        "  for(int row=0; row<rows; row++){\n",
        "    for(int col=0; col<cols; col++){\n",
        "      cout << matrix[row * cols + col] << \" \";\n",
        "    }\n",
        "    cout << endl;\n",
        "  }\n",
        "  cout << endl;\n",
        "}\n",
        "\n",
        "void sequentialMultiply(int *A, int *B, int *C, int M, int N, int K){\n",
        "  for(int i=0; i<M; i++){\n",
        "    for(int j=0; j<K; j++){\n",
        "      int sum = 0;\n",
        "      for(int k=0; k<N; k++){\n",
        "        sum += A[i*N+k] * B[k*K+j];\n",
        "      }\n",
        "      C[i*K+j] = sum;\n",
        "    }\n",
        "  }\n",
        "}\n",
        "\n",
        "int main(){\n",
        "  int M,N,K;\n",
        "  cout << \"Enter number of rows and columns of first matrix: \";\n",
        "  cin >> M >> N;\n",
        "  cout << \"Enter number of columns of second matrix: \";\n",
        "  cin >> K;\n",
        "\n",
        "  int *A, *B, *C;\n",
        "\n",
        "  A = new int[M*N];\n",
        "  B = new int[N*K];\n",
        "  C = new int[M*K];\n",
        "\n",
        "  initialize(A, M, N);\n",
        "  initialize(B, N, K);\n",
        "  cout<<\"Matrix A:\"<<endl; print(A, M, N);\n",
        "  cout<<\"Matrix B:\"<<endl; print(B, N, K);\n",
        "\n",
        "  int *X, *Y, *Z;\n",
        "\n",
        "  cudaMalloc(&X, M*N*sizeof(int));\n",
        "  cudaMalloc(&Y, N*K*sizeof(int));\n",
        "  cudaMalloc(&Z, M*K*sizeof(int));\n",
        "\n",
        "  cudaMemcpy(X,A,M*N*sizeof(int),cudaMemcpyHostToDevice);\n",
        "  cudaMemcpy(Y,B,N*K*sizeof(int),cudaMemcpyHostToDevice);\n",
        "\n",
        "  int THREADS = 16;\n",
        "  int BLOCKS = (M + THREADS - 1) / THREADS;\n",
        "\n",
        "  dim3 threads(THREADS, THREADS);\n",
        "  dim3 blocks(BLOCKS, BLOCKS);\n",
        "\n",
        "  // Sequential multiplication\n",
        "    auto start = high_resolution_clock::now();\n",
        "    sequentialMultiply(A, B, C, M, N, K);\n",
        "    auto stop = high_resolution_clock::now();\n",
        "    auto seq_duration = duration_cast<microseconds>(stop - start);\n",
        "\n",
        "    cout << \"Sequential Multiplication of matrix A and B: \\n\";\n",
        "    print(C, M, K);\n",
        "\n",
        "     // Parallel multiplication\n",
        "    start = high_resolution_clock::now();\n",
        "    multiply<<<blocks, threads>>>(X, Y, Z, M, N, K);\n",
        "    cudaMemcpy(C, Z, M * K * sizeof(int), cudaMemcpyDeviceToHost);\n",
        "    stop = high_resolution_clock::now();\n",
        "    auto par_duration = duration_cast<microseconds>(stop - start);\n",
        "\n",
        "    cout << \"Parallel Multiplication of matrix A and B: \\n\";\n",
        "    print(C, M, K);\n",
        "\n",
        "    cout << \"Sequential Multiplication Time: \" << seq_duration.count() << \" microseconds\" << endl;\n",
        "    cout << \"Parallel Multiplication Time: \" << par_duration.count() << \" microseconds\" << endl;\n",
        "\n",
        "    delete[] A;\n",
        "    delete[] B;\n",
        "    delete[] C;\n",
        "\n",
        "    cudaFree(X);\n",
        "    cudaFree(Y);\n",
        "    cudaFree(Z);\n",
        "\n",
        "    return 0;\n",
        "}"
      ],
      "metadata": {
        "colab": {
          "base_uri": "https://localhost:8080/"
        },
        "id": "sk_dOSNeNOt4",
        "outputId": "a0d74aca-1916-463e-b8c4-066accbced28"
      },
      "execution_count": 7,
      "outputs": [
        {
          "output_type": "stream",
          "name": "stdout",
          "text": [
            "Overwriting matrix.cu\n"
          ]
        }
      ]
    },
    {
      "cell_type": "code",
      "source": [
        "!nvcc -arch=sm_75 matrix.cu -o mat"
      ],
      "metadata": {
        "id": "tjrUxpsVNOvr"
      },
      "execution_count": 8,
      "outputs": []
    },
    {
      "cell_type": "code",
      "source": [
        "!./mat"
      ],
      "metadata": {
        "colab": {
          "base_uri": "https://localhost:8080/"
        },
        "id": "rMAt9dbpNOzT",
        "outputId": "41ebcfc0-c190-42fd-8137-c706f8a03fee"
      },
      "execution_count": 10,
      "outputs": [
        {
          "output_type": "stream",
          "name": "stdout",
          "text": [
            "Enter number of rows and columns of first matrix: 2\n",
            "3\n",
            "Enter number of columns of second matrix: 1\n",
            "Enter element 1 : 2\n",
            "Enter element 2 : 3\n",
            "Enter element 3 : 4\n",
            "Enter element 4 : 5\n",
            "Enter element 5 : 6\n",
            "Enter element 6 : 7\n",
            "Enter element 1 : 1\n",
            "Enter element 2 : 2\n",
            "Enter element 3 : 3\n",
            "Matrix A:\n",
            "2 3 4 \n",
            "5 6 7 \n",
            "\n",
            "Matrix B:\n",
            "1 \n",
            "2 \n",
            "3 \n",
            "\n",
            "Sequential Multiplication of matrix A and B: \n",
            "20 \n",
            "38 \n",
            "\n",
            "Parallel Multiplication of matrix A and B: \n",
            "20 \n",
            "38 \n",
            "\n",
            "Sequential Multiplication Time: 0 microseconds\n",
            "Parallel Multiplication Time: 130 microseconds\n"
          ]
        }
      ]
    }
  ]
}